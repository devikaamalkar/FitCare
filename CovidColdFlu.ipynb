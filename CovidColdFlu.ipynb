{
  "nbformat": 4,
  "nbformat_minor": 0,
  "metadata": {
    "colab": {
      "provenance": [],
      "include_colab_link": true
    },
    "kernelspec": {
      "name": "python3",
      "display_name": "Python 3"
    },
    "language_info": {
      "name": "python"
    }
  },
  "cells": [
    {
      "cell_type": "markdown",
      "metadata": {
        "id": "view-in-github",
        "colab_type": "text"
      },
      "source": [
        "<a href=\"https://colab.research.google.com/github/devikaamalkar/FitCare/blob/main/CovidColdFlu.ipynb\" target=\"_parent\"><img src=\"https://colab.research.google.com/assets/colab-badge.svg\" alt=\"Open In Colab\"/></a>"
      ]
    },
    {
      "cell_type": "code",
      "execution_count": null,
      "metadata": {
        "id": "crbM2YEZK8uq"
      },
      "outputs": [],
      "source": [
        "import numpy as np\n",
        "import matplotlib.pyplot as plt\n",
        "import pandas as pd\n",
        "import seaborn as sns\n",
        "import warnings\n",
        "import scipy.stats as ss\n",
        "from sklearn.model_selection import train_test_split # Train/Test split\n",
        "from sklearn.preprocessing import StandardScaler # Normalization\n",
        "from sklearn.linear_model import LogisticRegression # Logistic Regression\n",
        "from sklearn.metrics import confusion_matrix # Confusion Matrix\n",
        "from matplotlib.colors import ListedColormap # For colours\n",
        "from sklearn.metrics import classification_report, accuracy_score, precision_recall_fscore_support, confusion_matrix\n",
        "from sklearn.tree import DecisionTreeClassifier\n",
        "from sklearn import tree\n",
        "import graphviz\n",
        "from sklearn.tree import export_text"
      ]
    },
    {
      "cell_type": "code",
      "source": [
        "df = pd.read_csv('https://raw.githubusercontent.com/axs180224/Machine-Learning/main/large_data.csv')\n",
        "df.head()"
      ],
      "metadata": {
        "colab": {
          "base_uri": "https://localhost:8080/",
          "height": 300
        },
        "id": "am5VqT-UMkM-",
        "outputId": "a9115d1a-fa63-4a68-b63d-e2d390394f28"
      },
      "execution_count": null,
      "outputs": [
        {
          "output_type": "execute_result",
          "data": {
            "text/plain": [
              "   COUGH  MUSCLE_ACHES  TIREDNESS  SORE_THROAT  RUNNY_NOSE  STUFFY_NOSE  \\\n",
              "0      0             0          1            0           1            0   \n",
              "1      0             0          1            0           0            0   \n",
              "2      0             1          1            1           0            0   \n",
              "3      0             0          0            1           1            0   \n",
              "4      0             0          1            0           1            0   \n",
              "\n",
              "   FEVER  NAUSEA  VOMITING  DIARRHEA  ...  DIFFICULTY_BREATHING  \\\n",
              "0      0       0         0         0  ...                     0   \n",
              "1      0       0         0         0  ...                     0   \n",
              "2      0       0         0         0  ...                     0   \n",
              "3      0       0         0         0  ...                     0   \n",
              "4      0       0         0         0  ...                     0   \n",
              "\n",
              "   LOSS_OF_TASTE  LOSS_OF_SMELL  ITCHY_NOSE  ITCHY_EYES  ITCHY_MOUTH  \\\n",
              "0              1              0           1           0            0   \n",
              "1              1              0           1           0            1   \n",
              "2              1              0           1           0            0   \n",
              "3              1              1           0           0            1   \n",
              "4              1              1           0           1            0   \n",
              "\n",
              "   ITCHY_INNER_EAR  SNEEZING  PINK_EYE     TYPE  \n",
              "0                1         0         1  ALLERGY  \n",
              "1                1         1         1  ALLERGY  \n",
              "2                0         0         1  ALLERGY  \n",
              "3                0         1         1  ALLERGY  \n",
              "4                1         1         1  ALLERGY  \n",
              "\n",
              "[5 rows x 21 columns]"
            ],
            "text/html": [
              "\n",
              "  <div id=\"df-2814b22c-b6c3-45ac-a378-63ce27f7a6b1\">\n",
              "    <div class=\"colab-df-container\">\n",
              "      <div>\n",
              "<style scoped>\n",
              "    .dataframe tbody tr th:only-of-type {\n",
              "        vertical-align: middle;\n",
              "    }\n",
              "\n",
              "    .dataframe tbody tr th {\n",
              "        vertical-align: top;\n",
              "    }\n",
              "\n",
              "    .dataframe thead th {\n",
              "        text-align: right;\n",
              "    }\n",
              "</style>\n",
              "<table border=\"1\" class=\"dataframe\">\n",
              "  <thead>\n",
              "    <tr style=\"text-align: right;\">\n",
              "      <th></th>\n",
              "      <th>COUGH</th>\n",
              "      <th>MUSCLE_ACHES</th>\n",
              "      <th>TIREDNESS</th>\n",
              "      <th>SORE_THROAT</th>\n",
              "      <th>RUNNY_NOSE</th>\n",
              "      <th>STUFFY_NOSE</th>\n",
              "      <th>FEVER</th>\n",
              "      <th>NAUSEA</th>\n",
              "      <th>VOMITING</th>\n",
              "      <th>DIARRHEA</th>\n",
              "      <th>...</th>\n",
              "      <th>DIFFICULTY_BREATHING</th>\n",
              "      <th>LOSS_OF_TASTE</th>\n",
              "      <th>LOSS_OF_SMELL</th>\n",
              "      <th>ITCHY_NOSE</th>\n",
              "      <th>ITCHY_EYES</th>\n",
              "      <th>ITCHY_MOUTH</th>\n",
              "      <th>ITCHY_INNER_EAR</th>\n",
              "      <th>SNEEZING</th>\n",
              "      <th>PINK_EYE</th>\n",
              "      <th>TYPE</th>\n",
              "    </tr>\n",
              "  </thead>\n",
              "  <tbody>\n",
              "    <tr>\n",
              "      <th>0</th>\n",
              "      <td>0</td>\n",
              "      <td>0</td>\n",
              "      <td>1</td>\n",
              "      <td>0</td>\n",
              "      <td>1</td>\n",
              "      <td>0</td>\n",
              "      <td>0</td>\n",
              "      <td>0</td>\n",
              "      <td>0</td>\n",
              "      <td>0</td>\n",
              "      <td>...</td>\n",
              "      <td>0</td>\n",
              "      <td>1</td>\n",
              "      <td>0</td>\n",
              "      <td>1</td>\n",
              "      <td>0</td>\n",
              "      <td>0</td>\n",
              "      <td>1</td>\n",
              "      <td>0</td>\n",
              "      <td>1</td>\n",
              "      <td>ALLERGY</td>\n",
              "    </tr>\n",
              "    <tr>\n",
              "      <th>1</th>\n",
              "      <td>0</td>\n",
              "      <td>0</td>\n",
              "      <td>1</td>\n",
              "      <td>0</td>\n",
              "      <td>0</td>\n",
              "      <td>0</td>\n",
              "      <td>0</td>\n",
              "      <td>0</td>\n",
              "      <td>0</td>\n",
              "      <td>0</td>\n",
              "      <td>...</td>\n",
              "      <td>0</td>\n",
              "      <td>1</td>\n",
              "      <td>0</td>\n",
              "      <td>1</td>\n",
              "      <td>0</td>\n",
              "      <td>1</td>\n",
              "      <td>1</td>\n",
              "      <td>1</td>\n",
              "      <td>1</td>\n",
              "      <td>ALLERGY</td>\n",
              "    </tr>\n",
              "    <tr>\n",
              "      <th>2</th>\n",
              "      <td>0</td>\n",
              "      <td>1</td>\n",
              "      <td>1</td>\n",
              "      <td>1</td>\n",
              "      <td>0</td>\n",
              "      <td>0</td>\n",
              "      <td>0</td>\n",
              "      <td>0</td>\n",
              "      <td>0</td>\n",
              "      <td>0</td>\n",
              "      <td>...</td>\n",
              "      <td>0</td>\n",
              "      <td>1</td>\n",
              "      <td>0</td>\n",
              "      <td>1</td>\n",
              "      <td>0</td>\n",
              "      <td>0</td>\n",
              "      <td>0</td>\n",
              "      <td>0</td>\n",
              "      <td>1</td>\n",
              "      <td>ALLERGY</td>\n",
              "    </tr>\n",
              "    <tr>\n",
              "      <th>3</th>\n",
              "      <td>0</td>\n",
              "      <td>0</td>\n",
              "      <td>0</td>\n",
              "      <td>1</td>\n",
              "      <td>1</td>\n",
              "      <td>0</td>\n",
              "      <td>0</td>\n",
              "      <td>0</td>\n",
              "      <td>0</td>\n",
              "      <td>0</td>\n",
              "      <td>...</td>\n",
              "      <td>0</td>\n",
              "      <td>1</td>\n",
              "      <td>1</td>\n",
              "      <td>0</td>\n",
              "      <td>0</td>\n",
              "      <td>1</td>\n",
              "      <td>0</td>\n",
              "      <td>1</td>\n",
              "      <td>1</td>\n",
              "      <td>ALLERGY</td>\n",
              "    </tr>\n",
              "    <tr>\n",
              "      <th>4</th>\n",
              "      <td>0</td>\n",
              "      <td>0</td>\n",
              "      <td>1</td>\n",
              "      <td>0</td>\n",
              "      <td>1</td>\n",
              "      <td>0</td>\n",
              "      <td>0</td>\n",
              "      <td>0</td>\n",
              "      <td>0</td>\n",
              "      <td>0</td>\n",
              "      <td>...</td>\n",
              "      <td>0</td>\n",
              "      <td>1</td>\n",
              "      <td>1</td>\n",
              "      <td>0</td>\n",
              "      <td>1</td>\n",
              "      <td>0</td>\n",
              "      <td>1</td>\n",
              "      <td>1</td>\n",
              "      <td>1</td>\n",
              "      <td>ALLERGY</td>\n",
              "    </tr>\n",
              "  </tbody>\n",
              "</table>\n",
              "<p>5 rows × 21 columns</p>\n",
              "</div>\n",
              "      <button class=\"colab-df-convert\" onclick=\"convertToInteractive('df-2814b22c-b6c3-45ac-a378-63ce27f7a6b1')\"\n",
              "              title=\"Convert this dataframe to an interactive table.\"\n",
              "              style=\"display:none;\">\n",
              "        \n",
              "  <svg xmlns=\"http://www.w3.org/2000/svg\" height=\"24px\"viewBox=\"0 0 24 24\"\n",
              "       width=\"24px\">\n",
              "    <path d=\"M0 0h24v24H0V0z\" fill=\"none\"/>\n",
              "    <path d=\"M18.56 5.44l.94 2.06.94-2.06 2.06-.94-2.06-.94-.94-2.06-.94 2.06-2.06.94zm-11 1L8.5 8.5l.94-2.06 2.06-.94-2.06-.94L8.5 2.5l-.94 2.06-2.06.94zm10 10l.94 2.06.94-2.06 2.06-.94-2.06-.94-.94-2.06-.94 2.06-2.06.94z\"/><path d=\"M17.41 7.96l-1.37-1.37c-.4-.4-.92-.59-1.43-.59-.52 0-1.04.2-1.43.59L10.3 9.45l-7.72 7.72c-.78.78-.78 2.05 0 2.83L4 21.41c.39.39.9.59 1.41.59.51 0 1.02-.2 1.41-.59l7.78-7.78 2.81-2.81c.8-.78.8-2.07 0-2.86zM5.41 20L4 18.59l7.72-7.72 1.47 1.35L5.41 20z\"/>\n",
              "  </svg>\n",
              "      </button>\n",
              "      \n",
              "  <style>\n",
              "    .colab-df-container {\n",
              "      display:flex;\n",
              "      flex-wrap:wrap;\n",
              "      gap: 12px;\n",
              "    }\n",
              "\n",
              "    .colab-df-convert {\n",
              "      background-color: #E8F0FE;\n",
              "      border: none;\n",
              "      border-radius: 50%;\n",
              "      cursor: pointer;\n",
              "      display: none;\n",
              "      fill: #1967D2;\n",
              "      height: 32px;\n",
              "      padding: 0 0 0 0;\n",
              "      width: 32px;\n",
              "    }\n",
              "\n",
              "    .colab-df-convert:hover {\n",
              "      background-color: #E2EBFA;\n",
              "      box-shadow: 0px 1px 2px rgba(60, 64, 67, 0.3), 0px 1px 3px 1px rgba(60, 64, 67, 0.15);\n",
              "      fill: #174EA6;\n",
              "    }\n",
              "\n",
              "    [theme=dark] .colab-df-convert {\n",
              "      background-color: #3B4455;\n",
              "      fill: #D2E3FC;\n",
              "    }\n",
              "\n",
              "    [theme=dark] .colab-df-convert:hover {\n",
              "      background-color: #434B5C;\n",
              "      box-shadow: 0px 1px 3px 1px rgba(0, 0, 0, 0.15);\n",
              "      filter: drop-shadow(0px 1px 2px rgba(0, 0, 0, 0.3));\n",
              "      fill: #FFFFFF;\n",
              "    }\n",
              "  </style>\n",
              "\n",
              "      <script>\n",
              "        const buttonEl =\n",
              "          document.querySelector('#df-2814b22c-b6c3-45ac-a378-63ce27f7a6b1 button.colab-df-convert');\n",
              "        buttonEl.style.display =\n",
              "          google.colab.kernel.accessAllowed ? 'block' : 'none';\n",
              "\n",
              "        async function convertToInteractive(key) {\n",
              "          const element = document.querySelector('#df-2814b22c-b6c3-45ac-a378-63ce27f7a6b1');\n",
              "          const dataTable =\n",
              "            await google.colab.kernel.invokeFunction('convertToInteractive',\n",
              "                                                     [key], {});\n",
              "          if (!dataTable) return;\n",
              "\n",
              "          const docLinkHtml = 'Like what you see? Visit the ' +\n",
              "            '<a target=\"_blank\" href=https://colab.research.google.com/notebooks/data_table.ipynb>data table notebook</a>'\n",
              "            + ' to learn more about interactive tables.';\n",
              "          element.innerHTML = '';\n",
              "          dataTable['output_type'] = 'display_data';\n",
              "          await google.colab.output.renderOutput(dataTable, element);\n",
              "          const docLink = document.createElement('div');\n",
              "          docLink.innerHTML = docLinkHtml;\n",
              "          element.appendChild(docLink);\n",
              "        }\n",
              "      </script>\n",
              "    </div>\n",
              "  </div>\n",
              "  "
            ]
          },
          "metadata": {},
          "execution_count": 3
        }
      ]
    },
    {
      "cell_type": "code",
      "source": [
        "X=df[['COUGH', 'MUSCLE_ACHES', 'TIREDNESS','SORE_THROAT', 'RUNNY_NOSE','STUFFY_NOSE', 'FEVER', 'NAUSEA', 'VOMITING', 'SHORTNESS_OF_BREATH', 'LOSS_OF_TASTE', 'LOSS_OF_SMELL', 'ITCHY_NOSE', 'ITCHY_EYES', 'ITCHY_MOUTH', 'ITCHY_INNER_EAR', 'SNEEZING','PINK_EYE']]\n",
        "y=df[['TYPE']]\n",
        "X_train, X_test, y_train, y_test = train_test_split(X, y, test_size = 0.3, random_state=42)\n"
      ],
      "metadata": {
        "id": "ij3MV-uoNmHj"
      },
      "execution_count": null,
      "outputs": []
    },
    {
      "cell_type": "code",
      "source": [
        "#%% Training the Decision Tree Classifier\n",
        "clf_model = DecisionTreeClassifier(criterion=\"gini\", random_state=42, max_depth=9, min_samples_leaf=20)\n",
        "clf_model.fit(X_train,y_train)"
      ],
      "metadata": {
        "colab": {
          "base_uri": "https://localhost:8080/",
          "height": 75
        },
        "id": "BUC3SM9uOxQB",
        "outputId": "ac6e56a4-9902-4ffe-d71f-937e4e3a77a3"
      },
      "execution_count": null,
      "outputs": [
        {
          "output_type": "execute_result",
          "data": {
            "text/plain": [
              "DecisionTreeClassifier(max_depth=9, min_samples_leaf=20, random_state=42)"
            ],
            "text/html": [
              "<style>#sk-container-id-2 {color: black;background-color: white;}#sk-container-id-2 pre{padding: 0;}#sk-container-id-2 div.sk-toggleable {background-color: white;}#sk-container-id-2 label.sk-toggleable__label {cursor: pointer;display: block;width: 100%;margin-bottom: 0;padding: 0.3em;box-sizing: border-box;text-align: center;}#sk-container-id-2 label.sk-toggleable__label-arrow:before {content: \"▸\";float: left;margin-right: 0.25em;color: #696969;}#sk-container-id-2 label.sk-toggleable__label-arrow:hover:before {color: black;}#sk-container-id-2 div.sk-estimator:hover label.sk-toggleable__label-arrow:before {color: black;}#sk-container-id-2 div.sk-toggleable__content {max-height: 0;max-width: 0;overflow: hidden;text-align: left;background-color: #f0f8ff;}#sk-container-id-2 div.sk-toggleable__content pre {margin: 0.2em;color: black;border-radius: 0.25em;background-color: #f0f8ff;}#sk-container-id-2 input.sk-toggleable__control:checked~div.sk-toggleable__content {max-height: 200px;max-width: 100%;overflow: auto;}#sk-container-id-2 input.sk-toggleable__control:checked~label.sk-toggleable__label-arrow:before {content: \"▾\";}#sk-container-id-2 div.sk-estimator input.sk-toggleable__control:checked~label.sk-toggleable__label {background-color: #d4ebff;}#sk-container-id-2 div.sk-label input.sk-toggleable__control:checked~label.sk-toggleable__label {background-color: #d4ebff;}#sk-container-id-2 input.sk-hidden--visually {border: 0;clip: rect(1px 1px 1px 1px);clip: rect(1px, 1px, 1px, 1px);height: 1px;margin: -1px;overflow: hidden;padding: 0;position: absolute;width: 1px;}#sk-container-id-2 div.sk-estimator {font-family: monospace;background-color: #f0f8ff;border: 1px dotted black;border-radius: 0.25em;box-sizing: border-box;margin-bottom: 0.5em;}#sk-container-id-2 div.sk-estimator:hover {background-color: #d4ebff;}#sk-container-id-2 div.sk-parallel-item::after {content: \"\";width: 100%;border-bottom: 1px solid gray;flex-grow: 1;}#sk-container-id-2 div.sk-label:hover label.sk-toggleable__label {background-color: #d4ebff;}#sk-container-id-2 div.sk-serial::before {content: \"\";position: absolute;border-left: 1px solid gray;box-sizing: border-box;top: 0;bottom: 0;left: 50%;z-index: 0;}#sk-container-id-2 div.sk-serial {display: flex;flex-direction: column;align-items: center;background-color: white;padding-right: 0.2em;padding-left: 0.2em;position: relative;}#sk-container-id-2 div.sk-item {position: relative;z-index: 1;}#sk-container-id-2 div.sk-parallel {display: flex;align-items: stretch;justify-content: center;background-color: white;position: relative;}#sk-container-id-2 div.sk-item::before, #sk-container-id-2 div.sk-parallel-item::before {content: \"\";position: absolute;border-left: 1px solid gray;box-sizing: border-box;top: 0;bottom: 0;left: 50%;z-index: -1;}#sk-container-id-2 div.sk-parallel-item {display: flex;flex-direction: column;z-index: 1;position: relative;background-color: white;}#sk-container-id-2 div.sk-parallel-item:first-child::after {align-self: flex-end;width: 50%;}#sk-container-id-2 div.sk-parallel-item:last-child::after {align-self: flex-start;width: 50%;}#sk-container-id-2 div.sk-parallel-item:only-child::after {width: 0;}#sk-container-id-2 div.sk-dashed-wrapped {border: 1px dashed gray;margin: 0 0.4em 0.5em 0.4em;box-sizing: border-box;padding-bottom: 0.4em;background-color: white;}#sk-container-id-2 div.sk-label label {font-family: monospace;font-weight: bold;display: inline-block;line-height: 1.2em;}#sk-container-id-2 div.sk-label-container {text-align: center;}#sk-container-id-2 div.sk-container {/* jupyter's `normalize.less` sets `[hidden] { display: none; }` but bootstrap.min.css set `[hidden] { display: none !important; }` so we also need the `!important` here to be able to override the default hidden behavior on the sphinx rendered scikit-learn.org. See: https://github.com/scikit-learn/scikit-learn/issues/21755 */display: inline-block !important;position: relative;}#sk-container-id-2 div.sk-text-repr-fallback {display: none;}</style><div id=\"sk-container-id-2\" class=\"sk-top-container\"><div class=\"sk-text-repr-fallback\"><pre>DecisionTreeClassifier(max_depth=9, min_samples_leaf=20, random_state=42)</pre><b>In a Jupyter environment, please rerun this cell to show the HTML representation or trust the notebook. <br />On GitHub, the HTML representation is unable to render, please try loading this page with nbviewer.org.</b></div><div class=\"sk-container\" hidden><div class=\"sk-item\"><div class=\"sk-estimator sk-toggleable\"><input class=\"sk-toggleable__control sk-hidden--visually\" id=\"sk-estimator-id-2\" type=\"checkbox\" checked><label for=\"sk-estimator-id-2\" class=\"sk-toggleable__label sk-toggleable__label-arrow\">DecisionTreeClassifier</label><div class=\"sk-toggleable__content\"><pre>DecisionTreeClassifier(max_depth=9, min_samples_leaf=20, random_state=42)</pre></div></div></div></div></div>"
            ]
          },
          "metadata": {},
          "execution_count": 18
        }
      ]
    },
    {
      "cell_type": "code",
      "source": [
        "#%% Test Accuracy\n",
        "y_predict = clf_model.predict(X_test)\n",
        "accuracy_score(y_test,y_predict)"
      ],
      "metadata": {
        "colab": {
          "base_uri": "https://localhost:8080/"
        },
        "id": "1U3HoCDyPF1V",
        "outputId": "eb4e9a9e-2921-4fde-f744-f73c372a6565"
      },
      "execution_count": null,
      "outputs": [
        {
          "output_type": "execute_result",
          "data": {
            "text/plain": [
              "0.9220155968806238"
            ]
          },
          "metadata": {},
          "execution_count": 19
        }
      ]
    },
    {
      "cell_type": "code",
      "source": [
        "col_names = [\"COUGH\", \"MUSCLE_ACHES\", 'TIREDNESS','SORE_THROAT', 'RUNNY_NOSE','STUFFY_NOSE', 'FEVER', 'NAUSEA', 'VOMITING', \n",
        "             'SHORTNESS_OF_BREATH', 'LOSS_OF_TASTE', 'LOSS_OF_SMELL', 'ITCHY_NOSE', 'ITCHY_EYES', 'ITCHY_MOUTH', 'ITCHY_INNER_EAR', 'SNEEZING','PINK_EYE']\n"
      ],
      "metadata": {
        "id": "zfXfadMzPVth"
      },
      "execution_count": null,
      "outputs": []
    },
    {
      "cell_type": "code",
      "source": [
        "r = export_text(clf_model, feature_names=col_names)\n",
        "print(r)"
      ],
      "metadata": {
        "colab": {
          "base_uri": "https://localhost:8080/"
        },
        "id": "d08ZfM2pPK5N",
        "outputId": "6a92843a-2d1b-48fd-e1c6-1edd231a0a0c"
      },
      "execution_count": null,
      "outputs": [
        {
          "output_type": "stream",
          "name": "stdout",
          "text": [
            "|--- ITCHY_INNER_EAR <= 0.50\n",
            "|   |--- PINK_EYE <= 0.50\n",
            "|   |   |--- ITCHY_EYES <= 0.50\n",
            "|   |   |   |--- ITCHY_NOSE <= 0.50\n",
            "|   |   |   |   |--- ITCHY_MOUTH <= 0.50\n",
            "|   |   |   |   |   |--- RUNNY_NOSE <= 0.50\n",
            "|   |   |   |   |   |   |--- STUFFY_NOSE <= 0.50\n",
            "|   |   |   |   |   |   |   |--- LOSS_OF_SMELL <= 0.50\n",
            "|   |   |   |   |   |   |   |   |--- LOSS_OF_TASTE <= 0.50\n",
            "|   |   |   |   |   |   |   |   |   |--- class: COVID\n",
            "|   |   |   |   |   |   |   |   |--- LOSS_OF_TASTE >  0.50\n",
            "|   |   |   |   |   |   |   |   |   |--- class: FLU\n",
            "|   |   |   |   |   |   |   |--- LOSS_OF_SMELL >  0.50\n",
            "|   |   |   |   |   |   |   |   |--- SHORTNESS_OF_BREATH <= 0.50\n",
            "|   |   |   |   |   |   |   |   |   |--- class: FLU\n",
            "|   |   |   |   |   |   |   |   |--- SHORTNESS_OF_BREATH >  0.50\n",
            "|   |   |   |   |   |   |   |   |   |--- class: FLU\n",
            "|   |   |   |   |   |   |--- STUFFY_NOSE >  0.50\n",
            "|   |   |   |   |   |   |   |--- VOMITING <= 0.50\n",
            "|   |   |   |   |   |   |   |   |--- SHORTNESS_OF_BREATH <= 0.50\n",
            "|   |   |   |   |   |   |   |   |   |--- class: FLU\n",
            "|   |   |   |   |   |   |   |   |--- SHORTNESS_OF_BREATH >  0.50\n",
            "|   |   |   |   |   |   |   |   |   |--- class: FLU\n",
            "|   |   |   |   |   |   |   |--- VOMITING >  0.50\n",
            "|   |   |   |   |   |   |   |   |--- class: FLU\n",
            "|   |   |   |   |   |--- RUNNY_NOSE >  0.50\n",
            "|   |   |   |   |   |   |--- NAUSEA <= 0.50\n",
            "|   |   |   |   |   |   |   |--- SHORTNESS_OF_BREATH <= 0.50\n",
            "|   |   |   |   |   |   |   |   |--- VOMITING <= 0.50\n",
            "|   |   |   |   |   |   |   |   |   |--- class: FLU\n",
            "|   |   |   |   |   |   |   |   |--- VOMITING >  0.50\n",
            "|   |   |   |   |   |   |   |   |   |--- class: FLU\n",
            "|   |   |   |   |   |   |   |--- SHORTNESS_OF_BREATH >  0.50\n",
            "|   |   |   |   |   |   |   |   |--- class: FLU\n",
            "|   |   |   |   |   |   |--- NAUSEA >  0.50\n",
            "|   |   |   |   |   |   |   |--- class: FLU\n",
            "|   |   |   |   |--- ITCHY_MOUTH >  0.50\n",
            "|   |   |   |   |   |--- class: ALLERGY\n",
            "|   |   |   |--- ITCHY_NOSE >  0.50\n",
            "|   |   |   |   |--- class: ALLERGY\n",
            "|   |   |--- ITCHY_EYES >  0.50\n",
            "|   |   |   |--- class: ALLERGY\n",
            "|   |--- PINK_EYE >  0.50\n",
            "|   |   |--- class: ALLERGY\n",
            "|--- ITCHY_INNER_EAR >  0.50\n",
            "|   |--- class: ALLERGY\n",
            "\n"
          ]
        }
      ]
    },
    {
      "cell_type": "code",
      "source": [
        "#%% Plotting Decision Tree\n",
        "target = list(df['TYPE'].unique())\n",
        "feature_names = list(X.columns)\n",
        "dot_data = tree.export_graphviz(clf_model,\n",
        "                                out_file=None,\n",
        "                                feature_names=feature_names,\n",
        "                                class_names=target,\n",
        "                                filled=True, rounded=True,\n",
        "                                special_characters=True)\n",
        "graph = graphviz.Source(dot_data)\n",
        "\n",
        "graph\n"
      ],
      "metadata": {
        "colab": {
          "base_uri": "https://localhost:8080/",
          "height": 1000
        },
        "id": "cRHnUL32P_5Z",
        "outputId": "3a6fc3a9-145f-4c6d-8350-3d0010c83368"
      },
      "execution_count": null,
      "outputs": [
        {
          "output_type": "execute_result",
          "data": {
            "image/svg+xml": "<?xml version=\"1.0\" encoding=\"UTF-8\" standalone=\"no\"?>\n<!DOCTYPE svg PUBLIC \"-//W3C//DTD SVG 1.1//EN\"\n \"http://www.w3.org/Graphics/SVG/1.1/DTD/svg11.dtd\">\n<!-- Generated by graphviz version 2.43.0 (0)\n -->\n<!-- Title: Tree Pages: 1 -->\n<svg width=\"1735pt\" height=\"1147pt\"\n viewBox=\"0.00 0.00 1735.00 1147.00\" xmlns=\"http://www.w3.org/2000/svg\" xmlns:xlink=\"http://www.w3.org/1999/xlink\">\n<g id=\"graph0\" class=\"graph\" transform=\"scale(1 1) rotate(0) translate(4 1143)\">\n<title>Tree</title>\n<polygon fill=\"white\" stroke=\"transparent\" points=\"-4,4 -4,-1143 1731,-1143 1731,4 -4,4\"/>\n<!-- 0 -->\n<g id=\"node1\" class=\"node\">\n<title>0</title>\n<path fill=\"#f3c2f7\" stroke=\"black\" d=\"M1652.5,-1139C1652.5,-1139 1454.5,-1139 1454.5,-1139 1448.5,-1139 1442.5,-1133 1442.5,-1127 1442.5,-1127 1442.5,-1068 1442.5,-1068 1442.5,-1062 1448.5,-1056 1454.5,-1056 1454.5,-1056 1652.5,-1056 1652.5,-1056 1658.5,-1056 1664.5,-1062 1664.5,-1068 1664.5,-1068 1664.5,-1127 1664.5,-1127 1664.5,-1133 1658.5,-1139 1652.5,-1139\"/>\n<text text-anchor=\"start\" x=\"1473.5\" y=\"-1123.8\" font-family=\"Helvetica,sans-Serif\" font-size=\"14.00\">ITCHY_INNER_EAR ≤ 0.5</text>\n<text text-anchor=\"start\" x=\"1518\" y=\"-1108.8\" font-family=\"Helvetica,sans-Serif\" font-size=\"14.00\">gini = 0.546</text>\n<text text-anchor=\"start\" x=\"1501\" y=\"-1093.8\" font-family=\"Helvetica,sans-Serif\" font-size=\"14.00\">samples = 31117</text>\n<text text-anchor=\"start\" x=\"1450.5\" y=\"-1078.8\" font-family=\"Helvetica,sans-Serif\" font-size=\"14.00\">value = [11403, 736, 1458, 17520]</text>\n<text text-anchor=\"start\" x=\"1517\" y=\"-1063.8\" font-family=\"Helvetica,sans-Serif\" font-size=\"14.00\">class = FLU</text>\n</g>\n<!-- 1 -->\n<g id=\"node2\" class=\"node\">\n<title>1</title>\n<path fill=\"#e788ef\" stroke=\"black\" d=\"M1550,-1020C1550,-1020 1359,-1020 1359,-1020 1353,-1020 1347,-1014 1347,-1008 1347,-1008 1347,-949 1347,-949 1347,-943 1353,-937 1359,-937 1359,-937 1550,-937 1550,-937 1556,-937 1562,-943 1562,-949 1562,-949 1562,-1008 1562,-1008 1562,-1014 1556,-1020 1550,-1020\"/>\n<text text-anchor=\"start\" x=\"1404.5\" y=\"-1004.8\" font-family=\"Helvetica,sans-Serif\" font-size=\"14.00\">PINK_EYE ≤ 0.5</text>\n<text text-anchor=\"start\" x=\"1422.5\" y=\"-989.8\" font-family=\"Helvetica,sans-Serif\" font-size=\"14.00\">gini = 0.47</text>\n<text text-anchor=\"start\" x=\"1402\" y=\"-974.8\" font-family=\"Helvetica,sans-Serif\" font-size=\"14.00\">samples = 25391</text>\n<text text-anchor=\"start\" x=\"1355\" y=\"-959.8\" font-family=\"Helvetica,sans-Serif\" font-size=\"14.00\">value = [5677, 736, 1458, 17520]</text>\n<text text-anchor=\"start\" x=\"1418\" y=\"-944.8\" font-family=\"Helvetica,sans-Serif\" font-size=\"14.00\">class = FLU</text>\n</g>\n<!-- 0&#45;&gt;1 -->\n<g id=\"edge1\" class=\"edge\">\n<title>0&#45;&gt;1</title>\n<path fill=\"none\" stroke=\"black\" d=\"M1519.15,-1055.91C1511.47,-1046.83 1503.26,-1037.12 1495.34,-1027.77\"/>\n<polygon fill=\"black\" stroke=\"black\" points=\"1497.92,-1025.39 1488.79,-1020.02 1492.57,-1029.92 1497.92,-1025.39\"/>\n<text text-anchor=\"middle\" x=\"1486.71\" y=\"-1041.23\" font-family=\"Helvetica,sans-Serif\" font-size=\"14.00\">True</text>\n</g>\n<!-- 30 -->\n<g id=\"node31\" class=\"node\">\n<title>30</title>\n<path fill=\"#e58139\" stroke=\"black\" d=\"M1715,-1012.5C1715,-1012.5 1592,-1012.5 1592,-1012.5 1586,-1012.5 1580,-1006.5 1580,-1000.5 1580,-1000.5 1580,-956.5 1580,-956.5 1580,-950.5 1586,-944.5 1592,-944.5 1592,-944.5 1715,-944.5 1715,-944.5 1721,-944.5 1727,-950.5 1727,-956.5 1727,-956.5 1727,-1000.5 1727,-1000.5 1727,-1006.5 1721,-1012.5 1715,-1012.5\"/>\n<text text-anchor=\"start\" x=\"1625.5\" y=\"-997.3\" font-family=\"Helvetica,sans-Serif\" font-size=\"14.00\">gini = 0.0</text>\n<text text-anchor=\"start\" x=\"1605\" y=\"-982.3\" font-family=\"Helvetica,sans-Serif\" font-size=\"14.00\">samples = 5726</text>\n<text text-anchor=\"start\" x=\"1588\" y=\"-967.3\" font-family=\"Helvetica,sans-Serif\" font-size=\"14.00\">value = [5726, 0, 0, 0]</text>\n<text text-anchor=\"start\" x=\"1599\" y=\"-952.3\" font-family=\"Helvetica,sans-Serif\" font-size=\"14.00\">class = ALLERGY</text>\n</g>\n<!-- 0&#45;&gt;30 -->\n<g id=\"edge30\" class=\"edge\">\n<title>0&#45;&gt;30</title>\n<path fill=\"none\" stroke=\"black\" d=\"M1588.19,-1055.91C1598,-1044.43 1608.68,-1031.94 1618.51,-1020.44\"/>\n<polygon fill=\"black\" stroke=\"black\" points=\"1621.32,-1022.54 1625.15,-1012.67 1615.99,-1017.99 1621.32,-1022.54\"/>\n<text text-anchor=\"middle\" x=\"1627.1\" y=\"-1033.89\" font-family=\"Helvetica,sans-Serif\" font-size=\"14.00\">False</text>\n</g>\n<!-- 2 -->\n<g id=\"node3\" class=\"node\">\n<title>2</title>\n<path fill=\"#e16cec\" stroke=\"black\" d=\"M1451,-901C1451,-901 1260,-901 1260,-901 1254,-901 1248,-895 1248,-889 1248,-889 1248,-830 1248,-830 1248,-824 1254,-818 1260,-818 1260,-818 1451,-818 1451,-818 1457,-818 1463,-824 1463,-830 1463,-830 1463,-889 1463,-889 1463,-895 1457,-901 1451,-901\"/>\n<text text-anchor=\"start\" x=\"1296.5\" y=\"-885.8\" font-family=\"Helvetica,sans-Serif\" font-size=\"14.00\">ITCHY_EYES ≤ 0.5</text>\n<text text-anchor=\"start\" x=\"1320\" y=\"-870.8\" font-family=\"Helvetica,sans-Serif\" font-size=\"14.00\">gini = 0.376</text>\n<text text-anchor=\"start\" x=\"1303\" y=\"-855.8\" font-family=\"Helvetica,sans-Serif\" font-size=\"14.00\">samples = 22555</text>\n<text text-anchor=\"start\" x=\"1256\" y=\"-840.8\" font-family=\"Helvetica,sans-Serif\" font-size=\"14.00\">value = [2841, 736, 1458, 17520]</text>\n<text text-anchor=\"start\" x=\"1319\" y=\"-825.8\" font-family=\"Helvetica,sans-Serif\" font-size=\"14.00\">class = FLU</text>\n</g>\n<!-- 1&#45;&gt;2 -->\n<g id=\"edge2\" class=\"edge\">\n<title>1&#45;&gt;2</title>\n<path fill=\"none\" stroke=\"black\" d=\"M1420.15,-936.91C1412.47,-927.83 1404.26,-918.12 1396.34,-908.77\"/>\n<polygon fill=\"black\" stroke=\"black\" points=\"1398.92,-906.39 1389.79,-901.02 1393.57,-910.92 1398.92,-906.39\"/>\n</g>\n<!-- 29 -->\n<g id=\"node30\" class=\"node\">\n<title>29</title>\n<path fill=\"#e58139\" stroke=\"black\" d=\"M1616,-893.5C1616,-893.5 1493,-893.5 1493,-893.5 1487,-893.5 1481,-887.5 1481,-881.5 1481,-881.5 1481,-837.5 1481,-837.5 1481,-831.5 1487,-825.5 1493,-825.5 1493,-825.5 1616,-825.5 1616,-825.5 1622,-825.5 1628,-831.5 1628,-837.5 1628,-837.5 1628,-881.5 1628,-881.5 1628,-887.5 1622,-893.5 1616,-893.5\"/>\n<text text-anchor=\"start\" x=\"1526.5\" y=\"-878.3\" font-family=\"Helvetica,sans-Serif\" font-size=\"14.00\">gini = 0.0</text>\n<text text-anchor=\"start\" x=\"1506\" y=\"-863.3\" font-family=\"Helvetica,sans-Serif\" font-size=\"14.00\">samples = 2836</text>\n<text text-anchor=\"start\" x=\"1489\" y=\"-848.3\" font-family=\"Helvetica,sans-Serif\" font-size=\"14.00\">value = [2836, 0, 0, 0]</text>\n<text text-anchor=\"start\" x=\"1500\" y=\"-833.3\" font-family=\"Helvetica,sans-Serif\" font-size=\"14.00\">class = ALLERGY</text>\n</g>\n<!-- 1&#45;&gt;29 -->\n<g id=\"edge29\" class=\"edge\">\n<title>1&#45;&gt;29</title>\n<path fill=\"none\" stroke=\"black\" d=\"M1489.19,-936.91C1499,-925.43 1509.68,-912.94 1519.51,-901.44\"/>\n<polygon fill=\"black\" stroke=\"black\" points=\"1522.32,-903.54 1526.15,-893.67 1516.99,-898.99 1522.32,-903.54\"/>\n</g>\n<!-- 3 -->\n<g id=\"node4\" class=\"node\">\n<title>3</title>\n<path fill=\"#de5dea\" stroke=\"black\" d=\"M1352,-782C1352,-782 1161,-782 1161,-782 1155,-782 1149,-776 1149,-770 1149,-770 1149,-711 1149,-711 1149,-705 1155,-699 1161,-699 1161,-699 1352,-699 1352,-699 1358,-699 1364,-705 1364,-711 1364,-711 1364,-770 1364,-770 1364,-776 1358,-782 1352,-782\"/>\n<text text-anchor=\"start\" x=\"1196\" y=\"-766.8\" font-family=\"Helvetica,sans-Serif\" font-size=\"14.00\">ITCHY_NOSE ≤ 0.5</text>\n<text text-anchor=\"start\" x=\"1221\" y=\"-751.8\" font-family=\"Helvetica,sans-Serif\" font-size=\"14.00\">gini = 0.302</text>\n<text text-anchor=\"start\" x=\"1204\" y=\"-736.8\" font-family=\"Helvetica,sans-Serif\" font-size=\"14.00\">samples = 21131</text>\n<text text-anchor=\"start\" x=\"1157\" y=\"-721.8\" font-family=\"Helvetica,sans-Serif\" font-size=\"14.00\">value = [1417, 736, 1458, 17520]</text>\n<text text-anchor=\"start\" x=\"1220\" y=\"-706.8\" font-family=\"Helvetica,sans-Serif\" font-size=\"14.00\">class = FLU</text>\n</g>\n<!-- 2&#45;&gt;3 -->\n<g id=\"edge3\" class=\"edge\">\n<title>2&#45;&gt;3</title>\n<path fill=\"none\" stroke=\"black\" d=\"M1321.15,-817.91C1313.47,-808.83 1305.26,-799.12 1297.34,-789.77\"/>\n<polygon fill=\"black\" stroke=\"black\" points=\"1299.92,-787.39 1290.79,-782.02 1294.57,-791.92 1299.92,-787.39\"/>\n</g>\n<!-- 28 -->\n<g id=\"node29\" class=\"node\">\n<title>28</title>\n<path fill=\"#e58139\" stroke=\"black\" d=\"M1517,-774.5C1517,-774.5 1394,-774.5 1394,-774.5 1388,-774.5 1382,-768.5 1382,-762.5 1382,-762.5 1382,-718.5 1382,-718.5 1382,-712.5 1388,-706.5 1394,-706.5 1394,-706.5 1517,-706.5 1517,-706.5 1523,-706.5 1529,-712.5 1529,-718.5 1529,-718.5 1529,-762.5 1529,-762.5 1529,-768.5 1523,-774.5 1517,-774.5\"/>\n<text text-anchor=\"start\" x=\"1427.5\" y=\"-759.3\" font-family=\"Helvetica,sans-Serif\" font-size=\"14.00\">gini = 0.0</text>\n<text text-anchor=\"start\" x=\"1407\" y=\"-744.3\" font-family=\"Helvetica,sans-Serif\" font-size=\"14.00\">samples = 1424</text>\n<text text-anchor=\"start\" x=\"1390\" y=\"-729.3\" font-family=\"Helvetica,sans-Serif\" font-size=\"14.00\">value = [1424, 0, 0, 0]</text>\n<text text-anchor=\"start\" x=\"1401\" y=\"-714.3\" font-family=\"Helvetica,sans-Serif\" font-size=\"14.00\">class = ALLERGY</text>\n</g>\n<!-- 2&#45;&gt;28 -->\n<g id=\"edge28\" class=\"edge\">\n<title>2&#45;&gt;28</title>\n<path fill=\"none\" stroke=\"black\" d=\"M1390.19,-817.91C1400,-806.43 1410.68,-793.94 1420.51,-782.44\"/>\n<polygon fill=\"black\" stroke=\"black\" points=\"1423.32,-784.54 1427.15,-774.67 1417.99,-779.99 1423.32,-784.54\"/>\n</g>\n<!-- 4 -->\n<g id=\"node5\" class=\"node\">\n<title>4</title>\n<path fill=\"#dd57e9\" stroke=\"black\" d=\"M1252,-663C1252,-663 1069,-663 1069,-663 1063,-663 1057,-657 1057,-651 1057,-651 1057,-592 1057,-592 1057,-586 1063,-580 1069,-580 1069,-580 1252,-580 1252,-580 1258,-580 1264,-586 1264,-592 1264,-592 1264,-651 1264,-651 1264,-657 1258,-663 1252,-663\"/>\n<text text-anchor=\"start\" x=\"1094\" y=\"-647.8\" font-family=\"Helvetica,sans-Serif\" font-size=\"14.00\">ITCHY_MOUTH ≤ 0.5</text>\n<text text-anchor=\"start\" x=\"1125\" y=\"-632.8\" font-family=\"Helvetica,sans-Serif\" font-size=\"14.00\">gini = 0.257</text>\n<text text-anchor=\"start\" x=\"1108\" y=\"-617.8\" font-family=\"Helvetica,sans-Serif\" font-size=\"14.00\">samples = 20426</text>\n<text text-anchor=\"start\" x=\"1065\" y=\"-602.8\" font-family=\"Helvetica,sans-Serif\" font-size=\"14.00\">value = [712, 736, 1458, 17520]</text>\n<text text-anchor=\"start\" x=\"1124\" y=\"-587.8\" font-family=\"Helvetica,sans-Serif\" font-size=\"14.00\">class = FLU</text>\n</g>\n<!-- 3&#45;&gt;4 -->\n<g id=\"edge4\" class=\"edge\">\n<title>3&#45;&gt;4</title>\n<path fill=\"none\" stroke=\"black\" d=\"M1223.19,-698.91C1215.75,-689.83 1207.78,-680.12 1200.11,-670.77\"/>\n<polygon fill=\"black\" stroke=\"black\" points=\"1202.8,-668.53 1193.75,-663.02 1197.39,-672.97 1202.8,-668.53\"/>\n</g>\n<!-- 27 -->\n<g id=\"node28\" class=\"node\">\n<title>27</title>\n<path fill=\"#e58139\" stroke=\"black\" d=\"M1410.5,-655.5C1410.5,-655.5 1294.5,-655.5 1294.5,-655.5 1288.5,-655.5 1282.5,-649.5 1282.5,-643.5 1282.5,-643.5 1282.5,-599.5 1282.5,-599.5 1282.5,-593.5 1288.5,-587.5 1294.5,-587.5 1294.5,-587.5 1410.5,-587.5 1410.5,-587.5 1416.5,-587.5 1422.5,-593.5 1422.5,-599.5 1422.5,-599.5 1422.5,-643.5 1422.5,-643.5 1422.5,-649.5 1416.5,-655.5 1410.5,-655.5\"/>\n<text text-anchor=\"start\" x=\"1324.5\" y=\"-640.3\" font-family=\"Helvetica,sans-Serif\" font-size=\"14.00\">gini = 0.0</text>\n<text text-anchor=\"start\" x=\"1307.5\" y=\"-625.3\" font-family=\"Helvetica,sans-Serif\" font-size=\"14.00\">samples = 705</text>\n<text text-anchor=\"start\" x=\"1290.5\" y=\"-610.3\" font-family=\"Helvetica,sans-Serif\" font-size=\"14.00\">value = [705, 0, 0, 0]</text>\n<text text-anchor=\"start\" x=\"1298\" y=\"-595.3\" font-family=\"Helvetica,sans-Serif\" font-size=\"14.00\">class = ALLERGY</text>\n</g>\n<!-- 3&#45;&gt;27 -->\n<g id=\"edge27\" class=\"edge\">\n<title>3&#45;&gt;27</title>\n<path fill=\"none\" stroke=\"black\" d=\"M1289.81,-698.91C1299.22,-687.43 1309.47,-674.94 1318.91,-663.44\"/>\n<polygon fill=\"black\" stroke=\"black\" points=\"1321.65,-665.62 1325.29,-655.67 1316.24,-661.18 1321.65,-665.62\"/>\n</g>\n<!-- 5 -->\n<g id=\"node6\" class=\"node\">\n<title>5</title>\n<path fill=\"#dc54e9\" stroke=\"black\" d=\"M1156,-544C1156,-544 973,-544 973,-544 967,-544 961,-538 961,-532 961,-532 961,-473 961,-473 961,-467 967,-461 973,-461 973,-461 1156,-461 1156,-461 1162,-461 1168,-467 1168,-473 1168,-473 1168,-532 1168,-532 1168,-538 1162,-544 1156,-544\"/>\n<text text-anchor=\"start\" x=\"1000\" y=\"-528.8\" font-family=\"Helvetica,sans-Serif\" font-size=\"14.00\">RUNNY_NOSE ≤ 0.5</text>\n<text text-anchor=\"start\" x=\"1029\" y=\"-513.8\" font-family=\"Helvetica,sans-Serif\" font-size=\"14.00\">gini = 0.231</text>\n<text text-anchor=\"start\" x=\"1012\" y=\"-498.8\" font-family=\"Helvetica,sans-Serif\" font-size=\"14.00\">samples = 20072</text>\n<text text-anchor=\"start\" x=\"969\" y=\"-483.8\" font-family=\"Helvetica,sans-Serif\" font-size=\"14.00\">value = [358, 736, 1458, 17520]</text>\n<text text-anchor=\"start\" x=\"1028\" y=\"-468.8\" font-family=\"Helvetica,sans-Serif\" font-size=\"14.00\">class = FLU</text>\n</g>\n<!-- 4&#45;&gt;5 -->\n<g id=\"edge5\" class=\"edge\">\n<title>4&#45;&gt;5</title>\n<path fill=\"none\" stroke=\"black\" d=\"M1127.19,-579.91C1119.75,-570.83 1111.78,-561.12 1104.11,-551.77\"/>\n<polygon fill=\"black\" stroke=\"black\" points=\"1106.8,-549.53 1097.75,-544.02 1101.39,-553.97 1106.8,-549.53\"/>\n</g>\n<!-- 26 -->\n<g id=\"node27\" class=\"node\">\n<title>26</title>\n<path fill=\"#e58139\" stroke=\"black\" d=\"M1314.5,-536.5C1314.5,-536.5 1198.5,-536.5 1198.5,-536.5 1192.5,-536.5 1186.5,-530.5 1186.5,-524.5 1186.5,-524.5 1186.5,-480.5 1186.5,-480.5 1186.5,-474.5 1192.5,-468.5 1198.5,-468.5 1198.5,-468.5 1314.5,-468.5 1314.5,-468.5 1320.5,-468.5 1326.5,-474.5 1326.5,-480.5 1326.5,-480.5 1326.5,-524.5 1326.5,-524.5 1326.5,-530.5 1320.5,-536.5 1314.5,-536.5\"/>\n<text text-anchor=\"start\" x=\"1228.5\" y=\"-521.3\" font-family=\"Helvetica,sans-Serif\" font-size=\"14.00\">gini = 0.0</text>\n<text text-anchor=\"start\" x=\"1211.5\" y=\"-506.3\" font-family=\"Helvetica,sans-Serif\" font-size=\"14.00\">samples = 354</text>\n<text text-anchor=\"start\" x=\"1194.5\" y=\"-491.3\" font-family=\"Helvetica,sans-Serif\" font-size=\"14.00\">value = [354, 0, 0, 0]</text>\n<text text-anchor=\"start\" x=\"1202\" y=\"-476.3\" font-family=\"Helvetica,sans-Serif\" font-size=\"14.00\">class = ALLERGY</text>\n</g>\n<!-- 4&#45;&gt;26 -->\n<g id=\"edge26\" class=\"edge\">\n<title>4&#45;&gt;26</title>\n<path fill=\"none\" stroke=\"black\" d=\"M1193.81,-579.91C1203.22,-568.43 1213.47,-555.94 1222.91,-544.44\"/>\n<polygon fill=\"black\" stroke=\"black\" points=\"1225.65,-546.62 1229.29,-536.67 1220.24,-542.18 1225.65,-546.62\"/>\n</g>\n<!-- 6 -->\n<g id=\"node7\" class=\"node\">\n<title>6</title>\n<path fill=\"#e067eb\" stroke=\"black\" d=\"M960.5,-425C960.5,-425 784.5,-425 784.5,-425 778.5,-425 772.5,-419 772.5,-413 772.5,-413 772.5,-354 772.5,-354 772.5,-348 778.5,-342 784.5,-342 784.5,-342 960.5,-342 960.5,-342 966.5,-342 972.5,-348 972.5,-354 972.5,-354 972.5,-413 972.5,-413 972.5,-419 966.5,-425 960.5,-425\"/>\n<text text-anchor=\"start\" x=\"806\" y=\"-409.8\" font-family=\"Helvetica,sans-Serif\" font-size=\"14.00\">STUFFY_NOSE ≤ 0.5</text>\n<text text-anchor=\"start\" x=\"837\" y=\"-394.8\" font-family=\"Helvetica,sans-Serif\" font-size=\"14.00\">gini = 0.334</text>\n<text text-anchor=\"start\" x=\"820\" y=\"-379.8\" font-family=\"Helvetica,sans-Serif\" font-size=\"14.00\">samples = 10182</text>\n<text text-anchor=\"start\" x=\"780.5\" y=\"-364.8\" font-family=\"Helvetica,sans-Serif\" font-size=\"14.00\">value = [176, 381, 1458, 8167]</text>\n<text text-anchor=\"start\" x=\"836\" y=\"-349.8\" font-family=\"Helvetica,sans-Serif\" font-size=\"14.00\">class = FLU</text>\n</g>\n<!-- 5&#45;&gt;6 -->\n<g id=\"edge6\" class=\"edge\">\n<title>5&#45;&gt;6</title>\n<path fill=\"none\" stroke=\"black\" d=\"M997.89,-460.91C981.65,-451.02 964.18,-440.37 947.58,-430.25\"/>\n<polygon fill=\"black\" stroke=\"black\" points=\"949.36,-427.24 939,-425.02 945.71,-433.21 949.36,-427.24\"/>\n</g>\n<!-- 19 -->\n<g id=\"node20\" class=\"node\">\n<title>19</title>\n<path fill=\"#d944e6\" stroke=\"black\" d=\"M1249,-425C1249,-425 1096,-425 1096,-425 1090,-425 1084,-419 1084,-413 1084,-413 1084,-354 1084,-354 1084,-348 1090,-342 1096,-342 1096,-342 1249,-342 1249,-342 1255,-342 1261,-348 1261,-354 1261,-354 1261,-413 1261,-413 1261,-419 1255,-425 1249,-425\"/>\n<text text-anchor=\"start\" x=\"1128\" y=\"-409.8\" font-family=\"Helvetica,sans-Serif\" font-size=\"14.00\">NAUSEA ≤ 0.5</text>\n<text text-anchor=\"start\" x=\"1137\" y=\"-394.8\" font-family=\"Helvetica,sans-Serif\" font-size=\"14.00\">gini = 0.104</text>\n<text text-anchor=\"start\" x=\"1124\" y=\"-379.8\" font-family=\"Helvetica,sans-Serif\" font-size=\"14.00\">samples = 9890</text>\n<text text-anchor=\"start\" x=\"1092\" y=\"-364.8\" font-family=\"Helvetica,sans-Serif\" font-size=\"14.00\">value = [182, 355, 0, 9353]</text>\n<text text-anchor=\"start\" x=\"1136\" y=\"-349.8\" font-family=\"Helvetica,sans-Serif\" font-size=\"14.00\">class = FLU</text>\n</g>\n<!-- 5&#45;&gt;19 -->\n<g id=\"edge19\" class=\"edge\">\n<title>5&#45;&gt;19</title>\n<path fill=\"none\" stroke=\"black\" d=\"M1101.97,-460.91C1110.43,-451.74 1119.49,-441.93 1128.2,-432.49\"/>\n<polygon fill=\"black\" stroke=\"black\" points=\"1130.89,-434.74 1135.1,-425.02 1125.74,-429.99 1130.89,-434.74\"/>\n</g>\n<!-- 7 -->\n<g id=\"node8\" class=\"node\">\n<title>7</title>\n<path fill=\"#e88ef0\" stroke=\"black\" d=\"M610.5,-306C610.5,-306 442.5,-306 442.5,-306 436.5,-306 430.5,-300 430.5,-294 430.5,-294 430.5,-235 430.5,-235 430.5,-229 436.5,-223 442.5,-223 442.5,-223 610.5,-223 610.5,-223 616.5,-223 622.5,-229 622.5,-235 622.5,-235 622.5,-294 622.5,-294 622.5,-300 616.5,-306 610.5,-306\"/>\n<text text-anchor=\"start\" x=\"451\" y=\"-290.8\" font-family=\"Helvetica,sans-Serif\" font-size=\"14.00\">LOSS_OF_SMELL ≤ 0.5</text>\n<text text-anchor=\"start\" x=\"491\" y=\"-275.8\" font-family=\"Helvetica,sans-Serif\" font-size=\"14.00\">gini = 0.461</text>\n<text text-anchor=\"start\" x=\"478\" y=\"-260.8\" font-family=\"Helvetica,sans-Serif\" font-size=\"14.00\">samples = 5492</text>\n<text text-anchor=\"start\" x=\"438.5\" y=\"-245.8\" font-family=\"Helvetica,sans-Serif\" font-size=\"14.00\">value = [83, 199, 1458, 3752]</text>\n<text text-anchor=\"start\" x=\"490\" y=\"-230.8\" font-family=\"Helvetica,sans-Serif\" font-size=\"14.00\">class = FLU</text>\n</g>\n<!-- 6&#45;&gt;7 -->\n<g id=\"edge7\" class=\"edge\">\n<title>6&#45;&gt;7</title>\n<path fill=\"none\" stroke=\"black\" d=\"M772.42,-348.66C728.54,-333.82 677,-316.39 632.46,-301.33\"/>\n<polygon fill=\"black\" stroke=\"black\" points=\"633.37,-297.94 622.78,-298.06 631.13,-304.58 633.37,-297.94\"/>\n</g>\n<!-- 14 -->\n<g id=\"node15\" class=\"node\">\n<title>14</title>\n<path fill=\"#d945e7\" stroke=\"black\" d=\"M945.5,-306C945.5,-306 799.5,-306 799.5,-306 793.5,-306 787.5,-300 787.5,-294 787.5,-294 787.5,-235 787.5,-235 787.5,-229 793.5,-223 799.5,-223 799.5,-223 945.5,-223 945.5,-223 951.5,-223 957.5,-229 957.5,-235 957.5,-235 957.5,-294 957.5,-294 957.5,-300 951.5,-306 945.5,-306\"/>\n<text text-anchor=\"start\" x=\"821\" y=\"-290.8\" font-family=\"Helvetica,sans-Serif\" font-size=\"14.00\">VOMITING ≤ 0.5</text>\n<text text-anchor=\"start\" x=\"837\" y=\"-275.8\" font-family=\"Helvetica,sans-Serif\" font-size=\"14.00\">gini = 0.112</text>\n<text text-anchor=\"start\" x=\"824\" y=\"-260.8\" font-family=\"Helvetica,sans-Serif\" font-size=\"14.00\">samples = 4690</text>\n<text text-anchor=\"start\" x=\"795.5\" y=\"-245.8\" font-family=\"Helvetica,sans-Serif\" font-size=\"14.00\">value = [93, 182, 0, 4415]</text>\n<text text-anchor=\"start\" x=\"836\" y=\"-230.8\" font-family=\"Helvetica,sans-Serif\" font-size=\"14.00\">class = FLU</text>\n</g>\n<!-- 6&#45;&gt;14 -->\n<g id=\"edge14\" class=\"edge\">\n<title>6&#45;&gt;14</title>\n<path fill=\"none\" stroke=\"black\" d=\"M872.5,-341.91C872.5,-333.65 872.5,-324.86 872.5,-316.3\"/>\n<polygon fill=\"black\" stroke=\"black\" points=\"876,-316.02 872.5,-306.02 869,-316.02 876,-316.02\"/>\n</g>\n<!-- 8 -->\n<g id=\"node9\" class=\"node\">\n<title>8</title>\n<path fill=\"#f0b7f5\" stroke=\"black\" d=\"M364.5,-187C364.5,-187 196.5,-187 196.5,-187 190.5,-187 184.5,-181 184.5,-175 184.5,-175 184.5,-116 184.5,-116 184.5,-110 190.5,-104 196.5,-104 196.5,-104 364.5,-104 364.5,-104 370.5,-104 376.5,-110 376.5,-116 376.5,-116 376.5,-175 376.5,-175 376.5,-181 370.5,-187 364.5,-187\"/>\n<text text-anchor=\"start\" x=\"206.5\" y=\"-171.8\" font-family=\"Helvetica,sans-Serif\" font-size=\"14.00\">LOSS_OF_TASTE ≤ 0.5</text>\n<text text-anchor=\"start\" x=\"245\" y=\"-156.8\" font-family=\"Helvetica,sans-Serif\" font-size=\"14.00\">gini = 0.508</text>\n<text text-anchor=\"start\" x=\"232\" y=\"-141.8\" font-family=\"Helvetica,sans-Serif\" font-size=\"14.00\">samples = 3984</text>\n<text text-anchor=\"start\" x=\"192.5\" y=\"-126.8\" font-family=\"Helvetica,sans-Serif\" font-size=\"14.00\">value = [42, 103, 1458, 2381]</text>\n<text text-anchor=\"start\" x=\"244\" y=\"-111.8\" font-family=\"Helvetica,sans-Serif\" font-size=\"14.00\">class = FLU</text>\n</g>\n<!-- 7&#45;&gt;8 -->\n<g id=\"edge8\" class=\"edge\">\n<title>7&#45;&gt;8</title>\n<path fill=\"none\" stroke=\"black\" d=\"M441.15,-222.91C419.78,-212.74 396.73,-201.78 374.95,-191.42\"/>\n<polygon fill=\"black\" stroke=\"black\" points=\"376.23,-188.16 365.7,-187.02 373.22,-194.48 376.23,-188.16\"/>\n</g>\n<!-- 11 -->\n<g id=\"node12\" class=\"node\">\n<title>11</title>\n<path fill=\"#db4ce8\" stroke=\"black\" d=\"M626.5,-187C626.5,-187 426.5,-187 426.5,-187 420.5,-187 414.5,-181 414.5,-175 414.5,-175 414.5,-116 414.5,-116 414.5,-110 420.5,-104 426.5,-104 426.5,-104 626.5,-104 626.5,-104 632.5,-104 638.5,-110 638.5,-116 638.5,-116 638.5,-175 638.5,-175 638.5,-181 632.5,-187 626.5,-187\"/>\n<text text-anchor=\"start\" x=\"422.5\" y=\"-171.8\" font-family=\"Helvetica,sans-Serif\" font-size=\"14.00\">SHORTNESS_OF_BREATH ≤ 0.5</text>\n<text text-anchor=\"start\" x=\"491\" y=\"-156.8\" font-family=\"Helvetica,sans-Serif\" font-size=\"14.00\">gini = 0.169</text>\n<text text-anchor=\"start\" x=\"478\" y=\"-141.8\" font-family=\"Helvetica,sans-Serif\" font-size=\"14.00\">samples = 1508</text>\n<text text-anchor=\"start\" x=\"453.5\" y=\"-126.8\" font-family=\"Helvetica,sans-Serif\" font-size=\"14.00\">value = [41, 96, 0, 1371]</text>\n<text text-anchor=\"start\" x=\"490\" y=\"-111.8\" font-family=\"Helvetica,sans-Serif\" font-size=\"14.00\">class = FLU</text>\n</g>\n<!-- 7&#45;&gt;11 -->\n<g id=\"edge11\" class=\"edge\">\n<title>7&#45;&gt;11</title>\n<path fill=\"none\" stroke=\"black\" d=\"M526.5,-222.91C526.5,-214.65 526.5,-205.86 526.5,-197.3\"/>\n<polygon fill=\"black\" stroke=\"black\" points=\"530,-197.02 526.5,-187.02 523,-197.02 530,-197.02\"/>\n</g>\n<!-- 9 -->\n<g id=\"node10\" class=\"node\">\n<title>9</title>\n<path fill=\"#f6fafe\" stroke=\"black\" d=\"M173,-68C173,-68 12,-68 12,-68 6,-68 0,-62 0,-56 0,-56 0,-12 0,-12 0,-6 6,0 12,0 12,0 173,0 173,0 179,0 185,-6 185,-12 185,-12 185,-56 185,-56 185,-62 179,-68 173,-68\"/>\n<text text-anchor=\"start\" x=\"57\" y=\"-52.8\" font-family=\"Helvetica,sans-Serif\" font-size=\"14.00\">gini = 0.525</text>\n<text text-anchor=\"start\" x=\"44\" y=\"-37.8\" font-family=\"Helvetica,sans-Serif\" font-size=\"14.00\">samples = 2919</text>\n<text text-anchor=\"start\" x=\"8\" y=\"-22.8\" font-family=\"Helvetica,sans-Serif\" font-size=\"14.00\">value = [23, 53, 1458, 1385]</text>\n<text text-anchor=\"start\" x=\"47\" y=\"-7.8\" font-family=\"Helvetica,sans-Serif\" font-size=\"14.00\">class = COVID</text>\n</g>\n<!-- 8&#45;&gt;9 -->\n<g id=\"edge9\" class=\"edge\">\n<title>8&#45;&gt;9</title>\n<path fill=\"none\" stroke=\"black\" d=\"M210.76,-103.88C193.5,-93.83 175.06,-83.09 158.01,-73.16\"/>\n<polygon fill=\"black\" stroke=\"black\" points=\"159.63,-70.05 149.23,-68.04 156.11,-76.1 159.63,-70.05\"/>\n</g>\n<!-- 10 -->\n<g id=\"node11\" class=\"node\">\n<title>10</title>\n<path fill=\"#da46e7\" stroke=\"black\" d=\"M346,-68C346,-68 215,-68 215,-68 209,-68 203,-62 203,-56 203,-56 203,-12 203,-12 203,-6 209,0 215,0 215,0 346,0 346,0 352,0 358,-6 358,-12 358,-12 358,-56 358,-56 358,-62 352,-68 346,-68\"/>\n<text text-anchor=\"start\" x=\"245\" y=\"-52.8\" font-family=\"Helvetica,sans-Serif\" font-size=\"14.00\">gini = 0.123</text>\n<text text-anchor=\"start\" x=\"232\" y=\"-37.8\" font-family=\"Helvetica,sans-Serif\" font-size=\"14.00\">samples = 1065</text>\n<text text-anchor=\"start\" x=\"211\" y=\"-22.8\" font-family=\"Helvetica,sans-Serif\" font-size=\"14.00\">value = [19, 50, 0, 996]</text>\n<text text-anchor=\"start\" x=\"244\" y=\"-7.8\" font-family=\"Helvetica,sans-Serif\" font-size=\"14.00\">class = FLU</text>\n</g>\n<!-- 8&#45;&gt;10 -->\n<g id=\"edge10\" class=\"edge\">\n<title>8&#45;&gt;10</title>\n<path fill=\"none\" stroke=\"black\" d=\"M280.5,-103.73C280.5,-95.52 280.5,-86.86 280.5,-78.56\"/>\n<polygon fill=\"black\" stroke=\"black\" points=\"284,-78.3 280.5,-68.3 277,-78.3 284,-78.3\"/>\n</g>\n<!-- 12 -->\n<g id=\"node13\" class=\"node\">\n<title>12</title>\n<path fill=\"#e067eb\" stroke=\"black\" d=\"M519,-68C519,-68 388,-68 388,-68 382,-68 376,-62 376,-56 376,-56 376,-12 376,-12 376,-6 382,0 388,0 388,0 519,0 519,0 525,0 531,-6 531,-12 531,-12 531,-56 531,-56 531,-62 525,-68 519,-68\"/>\n<text text-anchor=\"start\" x=\"418\" y=\"-52.8\" font-family=\"Helvetica,sans-Serif\" font-size=\"14.00\">gini = 0.338</text>\n<text text-anchor=\"start\" x=\"408.5\" y=\"-37.8\" font-family=\"Helvetica,sans-Serif\" font-size=\"14.00\">samples = 682</text>\n<text text-anchor=\"start\" x=\"384\" y=\"-22.8\" font-family=\"Helvetica,sans-Serif\" font-size=\"14.00\">value = [41, 96, 0, 545]</text>\n<text text-anchor=\"start\" x=\"417\" y=\"-7.8\" font-family=\"Helvetica,sans-Serif\" font-size=\"14.00\">class = FLU</text>\n</g>\n<!-- 11&#45;&gt;12 -->\n<g id=\"edge12\" class=\"edge\">\n<title>11&#45;&gt;12</title>\n<path fill=\"none\" stroke=\"black\" d=\"M499.32,-103.73C493.42,-94.88 487.17,-85.51 481.25,-76.63\"/>\n<polygon fill=\"black\" stroke=\"black\" points=\"484.16,-74.68 475.7,-68.3 478.33,-78.56 484.16,-74.68\"/>\n</g>\n<!-- 13 -->\n<g id=\"node14\" class=\"node\">\n<title>13</title>\n<path fill=\"#d739e5\" stroke=\"black\" d=\"M677.5,-68C677.5,-68 561.5,-68 561.5,-68 555.5,-68 549.5,-62 549.5,-56 549.5,-56 549.5,-12 549.5,-12 549.5,-6 555.5,0 561.5,0 561.5,0 677.5,0 677.5,0 683.5,0 689.5,-6 689.5,-12 689.5,-12 689.5,-56 689.5,-56 689.5,-62 683.5,-68 677.5,-68\"/>\n<text text-anchor=\"start\" x=\"591.5\" y=\"-52.8\" font-family=\"Helvetica,sans-Serif\" font-size=\"14.00\">gini = 0.0</text>\n<text text-anchor=\"start\" x=\"574.5\" y=\"-37.8\" font-family=\"Helvetica,sans-Serif\" font-size=\"14.00\">samples = 826</text>\n<text text-anchor=\"start\" x=\"557.5\" y=\"-22.8\" font-family=\"Helvetica,sans-Serif\" font-size=\"14.00\">value = [0, 0, 0, 826]</text>\n<text text-anchor=\"start\" x=\"583\" y=\"-7.8\" font-family=\"Helvetica,sans-Serif\" font-size=\"14.00\">class = FLU</text>\n</g>\n<!-- 11&#45;&gt;13 -->\n<g id=\"edge13\" class=\"edge\">\n<title>11&#45;&gt;13</title>\n<path fill=\"none\" stroke=\"black\" d=\"M561.13,-103.73C568.8,-94.7 576.93,-85.12 584.61,-76.08\"/>\n<polygon fill=\"black\" stroke=\"black\" points=\"587.41,-78.19 591.22,-68.3 582.08,-73.66 587.41,-78.19\"/>\n</g>\n<!-- 15 -->\n<g id=\"node16\" class=\"node\">\n<title>15</title>\n<path fill=\"#dc52e8\" stroke=\"black\" d=\"M888.5,-187C888.5,-187 688.5,-187 688.5,-187 682.5,-187 676.5,-181 676.5,-175 676.5,-175 676.5,-116 676.5,-116 676.5,-110 682.5,-104 688.5,-104 688.5,-104 888.5,-104 888.5,-104 894.5,-104 900.5,-110 900.5,-116 900.5,-116 900.5,-175 900.5,-175 900.5,-181 894.5,-187 888.5,-187\"/>\n<text text-anchor=\"start\" x=\"684.5\" y=\"-171.8\" font-family=\"Helvetica,sans-Serif\" font-size=\"14.00\">SHORTNESS_OF_BREATH ≤ 0.5</text>\n<text text-anchor=\"start\" x=\"753\" y=\"-156.8\" font-family=\"Helvetica,sans-Serif\" font-size=\"14.00\">gini = 0.215</text>\n<text text-anchor=\"start\" x=\"740\" y=\"-141.8\" font-family=\"Helvetica,sans-Serif\" font-size=\"14.00\">samples = 2318</text>\n<text text-anchor=\"start\" x=\"711.5\" y=\"-126.8\" font-family=\"Helvetica,sans-Serif\" font-size=\"14.00\">value = [93, 182, 0, 2043]</text>\n<text text-anchor=\"start\" x=\"752\" y=\"-111.8\" font-family=\"Helvetica,sans-Serif\" font-size=\"14.00\">class = FLU</text>\n</g>\n<!-- 14&#45;&gt;15 -->\n<g id=\"edge15\" class=\"edge\">\n<title>14&#45;&gt;15</title>\n<path fill=\"none\" stroke=\"black\" d=\"M843.36,-222.91C836.97,-214.01 830.15,-204.51 823.56,-195.33\"/>\n<polygon fill=\"black\" stroke=\"black\" points=\"826.27,-193.1 817.59,-187.02 820.58,-197.19 826.27,-193.1\"/>\n</g>\n<!-- 18 -->\n<g id=\"node19\" class=\"node\">\n<title>18</title>\n<path fill=\"#d739e5\" stroke=\"black\" d=\"M1054,-179.5C1054,-179.5 931,-179.5 931,-179.5 925,-179.5 919,-173.5 919,-167.5 919,-167.5 919,-123.5 919,-123.5 919,-117.5 925,-111.5 931,-111.5 931,-111.5 1054,-111.5 1054,-111.5 1060,-111.5 1066,-117.5 1066,-123.5 1066,-123.5 1066,-167.5 1066,-167.5 1066,-173.5 1060,-179.5 1054,-179.5\"/>\n<text text-anchor=\"start\" x=\"964.5\" y=\"-164.3\" font-family=\"Helvetica,sans-Serif\" font-size=\"14.00\">gini = 0.0</text>\n<text text-anchor=\"start\" x=\"944\" y=\"-149.3\" font-family=\"Helvetica,sans-Serif\" font-size=\"14.00\">samples = 2372</text>\n<text text-anchor=\"start\" x=\"927\" y=\"-134.3\" font-family=\"Helvetica,sans-Serif\" font-size=\"14.00\">value = [0, 0, 0, 2372]</text>\n<text text-anchor=\"start\" x=\"956\" y=\"-119.3\" font-family=\"Helvetica,sans-Serif\" font-size=\"14.00\">class = FLU</text>\n</g>\n<!-- 14&#45;&gt;18 -->\n<g id=\"edge18\" class=\"edge\">\n<title>14&#45;&gt;18</title>\n<path fill=\"none\" stroke=\"black\" d=\"M914.13,-222.91C926.13,-211.21 939.21,-198.46 951.19,-186.78\"/>\n<polygon fill=\"black\" stroke=\"black\" points=\"953.77,-189.15 958.48,-179.67 948.88,-184.14 953.77,-189.15\"/>\n</g>\n<!-- 16 -->\n<g id=\"node17\" class=\"node\">\n<title>16</title>\n<path fill=\"#e26eec\" stroke=\"black\" d=\"M857.5,-68C857.5,-68 719.5,-68 719.5,-68 713.5,-68 707.5,-62 707.5,-56 707.5,-56 707.5,-12 707.5,-12 707.5,-6 713.5,0 719.5,0 719.5,0 857.5,0 857.5,0 863.5,0 869.5,-6 869.5,-12 869.5,-12 869.5,-56 869.5,-56 869.5,-62 863.5,-68 857.5,-68\"/>\n<text text-anchor=\"start\" x=\"753\" y=\"-52.8\" font-family=\"Helvetica,sans-Serif\" font-size=\"14.00\">gini = 0.376</text>\n<text text-anchor=\"start\" x=\"740\" y=\"-37.8\" font-family=\"Helvetica,sans-Serif\" font-size=\"14.00\">samples = 1204</text>\n<text text-anchor=\"start\" x=\"715.5\" y=\"-22.8\" font-family=\"Helvetica,sans-Serif\" font-size=\"14.00\">value = [93, 182, 0, 929]</text>\n<text text-anchor=\"start\" x=\"752\" y=\"-7.8\" font-family=\"Helvetica,sans-Serif\" font-size=\"14.00\">class = FLU</text>\n</g>\n<!-- 15&#45;&gt;16 -->\n<g id=\"edge16\" class=\"edge\">\n<title>15&#45;&gt;16</title>\n<path fill=\"none\" stroke=\"black\" d=\"M788.5,-103.73C788.5,-95.52 788.5,-86.86 788.5,-78.56\"/>\n<polygon fill=\"black\" stroke=\"black\" points=\"792,-78.3 788.5,-68.3 785,-78.3 792,-78.3\"/>\n</g>\n<!-- 17 -->\n<g id=\"node18\" class=\"node\">\n<title>17</title>\n<path fill=\"#d739e5\" stroke=\"black\" d=\"M1023,-68C1023,-68 900,-68 900,-68 894,-68 888,-62 888,-56 888,-56 888,-12 888,-12 888,-6 894,0 900,0 900,0 1023,0 1023,0 1029,0 1035,-6 1035,-12 1035,-12 1035,-56 1035,-56 1035,-62 1029,-68 1023,-68\"/>\n<text text-anchor=\"start\" x=\"933.5\" y=\"-52.8\" font-family=\"Helvetica,sans-Serif\" font-size=\"14.00\">gini = 0.0</text>\n<text text-anchor=\"start\" x=\"913\" y=\"-37.8\" font-family=\"Helvetica,sans-Serif\" font-size=\"14.00\">samples = 1114</text>\n<text text-anchor=\"start\" x=\"896\" y=\"-22.8\" font-family=\"Helvetica,sans-Serif\" font-size=\"14.00\">value = [0, 0, 0, 1114]</text>\n<text text-anchor=\"start\" x=\"925\" y=\"-7.8\" font-family=\"Helvetica,sans-Serif\" font-size=\"14.00\">class = FLU</text>\n</g>\n<!-- 15&#45;&gt;17 -->\n<g id=\"edge17\" class=\"edge\">\n<title>15&#45;&gt;17</title>\n<path fill=\"none\" stroke=\"black\" d=\"M852.92,-103.73C868.56,-93.82 885.24,-83.27 900.71,-73.48\"/>\n<polygon fill=\"black\" stroke=\"black\" points=\"902.59,-76.43 909.17,-68.13 898.84,-70.52 902.59,-76.43\"/>\n</g>\n<!-- 20 -->\n<g id=\"node21\" class=\"node\">\n<title>20</title>\n<path fill=\"#dc50e8\" stroke=\"black\" d=\"M1272.5,-306C1272.5,-306 1072.5,-306 1072.5,-306 1066.5,-306 1060.5,-300 1060.5,-294 1060.5,-294 1060.5,-235 1060.5,-235 1060.5,-229 1066.5,-223 1072.5,-223 1072.5,-223 1272.5,-223 1272.5,-223 1278.5,-223 1284.5,-229 1284.5,-235 1284.5,-235 1284.5,-294 1284.5,-294 1284.5,-300 1278.5,-306 1272.5,-306\"/>\n<text text-anchor=\"start\" x=\"1068.5\" y=\"-290.8\" font-family=\"Helvetica,sans-Serif\" font-size=\"14.00\">SHORTNESS_OF_BREATH ≤ 0.5</text>\n<text text-anchor=\"start\" x=\"1137\" y=\"-275.8\" font-family=\"Helvetica,sans-Serif\" font-size=\"14.00\">gini = 0.201</text>\n<text text-anchor=\"start\" x=\"1124\" y=\"-260.8\" font-family=\"Helvetica,sans-Serif\" font-size=\"14.00\">samples = 4883</text>\n<text text-anchor=\"start\" x=\"1092\" y=\"-245.8\" font-family=\"Helvetica,sans-Serif\" font-size=\"14.00\">value = [182, 355, 0, 4346]</text>\n<text text-anchor=\"start\" x=\"1136\" y=\"-230.8\" font-family=\"Helvetica,sans-Serif\" font-size=\"14.00\">class = FLU</text>\n</g>\n<!-- 19&#45;&gt;20 -->\n<g id=\"edge20\" class=\"edge\">\n<title>19&#45;&gt;20</title>\n<path fill=\"none\" stroke=\"black\" d=\"M1172.5,-341.91C1172.5,-333.65 1172.5,-324.86 1172.5,-316.3\"/>\n<polygon fill=\"black\" stroke=\"black\" points=\"1176,-316.02 1172.5,-306.02 1169,-316.02 1176,-316.02\"/>\n</g>\n<!-- 25 -->\n<g id=\"node26\" class=\"node\">\n<title>25</title>\n<path fill=\"#d739e5\" stroke=\"black\" d=\"M1438,-298.5C1438,-298.5 1315,-298.5 1315,-298.5 1309,-298.5 1303,-292.5 1303,-286.5 1303,-286.5 1303,-242.5 1303,-242.5 1303,-236.5 1309,-230.5 1315,-230.5 1315,-230.5 1438,-230.5 1438,-230.5 1444,-230.5 1450,-236.5 1450,-242.5 1450,-242.5 1450,-286.5 1450,-286.5 1450,-292.5 1444,-298.5 1438,-298.5\"/>\n<text text-anchor=\"start\" x=\"1348.5\" y=\"-283.3\" font-family=\"Helvetica,sans-Serif\" font-size=\"14.00\">gini = 0.0</text>\n<text text-anchor=\"start\" x=\"1328\" y=\"-268.3\" font-family=\"Helvetica,sans-Serif\" font-size=\"14.00\">samples = 5007</text>\n<text text-anchor=\"start\" x=\"1311\" y=\"-253.3\" font-family=\"Helvetica,sans-Serif\" font-size=\"14.00\">value = [0, 0, 0, 5007]</text>\n<text text-anchor=\"start\" x=\"1340\" y=\"-238.3\" font-family=\"Helvetica,sans-Serif\" font-size=\"14.00\">class = FLU</text>\n</g>\n<!-- 19&#45;&gt;25 -->\n<g id=\"edge25\" class=\"edge\">\n<title>19&#45;&gt;25</title>\n<path fill=\"none\" stroke=\"black\" d=\"M1243.28,-341.91C1264.92,-329.49 1288.64,-315.89 1309.99,-303.64\"/>\n<polygon fill=\"black\" stroke=\"black\" points=\"1311.74,-306.68 1318.67,-298.67 1308.25,-300.61 1311.74,-306.68\"/>\n</g>\n<!-- 21 -->\n<g id=\"node22\" class=\"node\">\n<title>21</title>\n<path fill=\"#e16aeb\" stroke=\"black\" d=\"M1249,-187C1249,-187 1096,-187 1096,-187 1090,-187 1084,-181 1084,-175 1084,-175 1084,-116 1084,-116 1084,-110 1090,-104 1096,-104 1096,-104 1249,-104 1249,-104 1255,-104 1261,-110 1261,-116 1261,-116 1261,-175 1261,-175 1261,-181 1255,-187 1249,-187\"/>\n<text text-anchor=\"start\" x=\"1121\" y=\"-171.8\" font-family=\"Helvetica,sans-Serif\" font-size=\"14.00\">VOMITING ≤ 0.5</text>\n<text text-anchor=\"start\" x=\"1137\" y=\"-156.8\" font-family=\"Helvetica,sans-Serif\" font-size=\"14.00\">gini = 0.353</text>\n<text text-anchor=\"start\" x=\"1124\" y=\"-141.8\" font-family=\"Helvetica,sans-Serif\" font-size=\"14.00\">samples = 2546</text>\n<text text-anchor=\"start\" x=\"1092\" y=\"-126.8\" font-family=\"Helvetica,sans-Serif\" font-size=\"14.00\">value = [182, 355, 0, 2009]</text>\n<text text-anchor=\"start\" x=\"1136\" y=\"-111.8\" font-family=\"Helvetica,sans-Serif\" font-size=\"14.00\">class = FLU</text>\n</g>\n<!-- 20&#45;&gt;21 -->\n<g id=\"edge21\" class=\"edge\">\n<title>20&#45;&gt;21</title>\n<path fill=\"none\" stroke=\"black\" d=\"M1172.5,-222.91C1172.5,-214.65 1172.5,-205.86 1172.5,-197.3\"/>\n<polygon fill=\"black\" stroke=\"black\" points=\"1176,-197.02 1172.5,-187.02 1169,-197.02 1176,-197.02\"/>\n</g>\n<!-- 24 -->\n<g id=\"node25\" class=\"node\">\n<title>24</title>\n<path fill=\"#d739e5\" stroke=\"black\" d=\"M1414,-179.5C1414,-179.5 1291,-179.5 1291,-179.5 1285,-179.5 1279,-173.5 1279,-167.5 1279,-167.5 1279,-123.5 1279,-123.5 1279,-117.5 1285,-111.5 1291,-111.5 1291,-111.5 1414,-111.5 1414,-111.5 1420,-111.5 1426,-117.5 1426,-123.5 1426,-123.5 1426,-167.5 1426,-167.5 1426,-173.5 1420,-179.5 1414,-179.5\"/>\n<text text-anchor=\"start\" x=\"1324.5\" y=\"-164.3\" font-family=\"Helvetica,sans-Serif\" font-size=\"14.00\">gini = 0.0</text>\n<text text-anchor=\"start\" x=\"1304\" y=\"-149.3\" font-family=\"Helvetica,sans-Serif\" font-size=\"14.00\">samples = 2337</text>\n<text text-anchor=\"start\" x=\"1287\" y=\"-134.3\" font-family=\"Helvetica,sans-Serif\" font-size=\"14.00\">value = [0, 0, 0, 2337]</text>\n<text text-anchor=\"start\" x=\"1316\" y=\"-119.3\" font-family=\"Helvetica,sans-Serif\" font-size=\"14.00\">class = FLU</text>\n</g>\n<!-- 20&#45;&gt;24 -->\n<g id=\"edge24\" class=\"edge\">\n<title>20&#45;&gt;24</title>\n<path fill=\"none\" stroke=\"black\" d=\"M1234.95,-222.91C1253.79,-210.66 1274.42,-197.25 1293.06,-185.13\"/>\n<polygon fill=\"black\" stroke=\"black\" points=\"1295,-188.05 1301.47,-179.67 1291.18,-182.18 1295,-188.05\"/>\n</g>\n<!-- 22 -->\n<g id=\"node23\" class=\"node\">\n<title>22</title>\n<path fill=\"#ea99f2\" stroke=\"black\" d=\"M1228.5,-68C1228.5,-68 1082.5,-68 1082.5,-68 1076.5,-68 1070.5,-62 1070.5,-56 1070.5,-56 1070.5,-12 1070.5,-12 1070.5,-6 1076.5,0 1082.5,0 1082.5,0 1228.5,0 1228.5,0 1234.5,0 1240.5,-6 1240.5,-12 1240.5,-12 1240.5,-56 1240.5,-56 1240.5,-62 1234.5,-68 1228.5,-68\"/>\n<text text-anchor=\"start\" x=\"1120\" y=\"-52.8\" font-family=\"Helvetica,sans-Serif\" font-size=\"14.00\">gini = 0.526</text>\n<text text-anchor=\"start\" x=\"1107\" y=\"-37.8\" font-family=\"Helvetica,sans-Serif\" font-size=\"14.00\">samples = 1457</text>\n<text text-anchor=\"start\" x=\"1078.5\" y=\"-22.8\" font-family=\"Helvetica,sans-Serif\" font-size=\"14.00\">value = [182, 355, 0, 920]</text>\n<text text-anchor=\"start\" x=\"1119\" y=\"-7.8\" font-family=\"Helvetica,sans-Serif\" font-size=\"14.00\">class = FLU</text>\n</g>\n<!-- 21&#45;&gt;22 -->\n<g id=\"edge22\" class=\"edge\">\n<title>21&#45;&gt;22</title>\n<path fill=\"none\" stroke=\"black\" d=\"M1166.17,-103.73C1164.88,-95.43 1163.52,-86.67 1162.22,-78.28\"/>\n<polygon fill=\"black\" stroke=\"black\" points=\"1165.66,-77.64 1160.67,-68.3 1158.75,-78.72 1165.66,-77.64\"/>\n</g>\n<!-- 23 -->\n<g id=\"node24\" class=\"node\">\n<title>23</title>\n<path fill=\"#d739e5\" stroke=\"black\" d=\"M1394,-68C1394,-68 1271,-68 1271,-68 1265,-68 1259,-62 1259,-56 1259,-56 1259,-12 1259,-12 1259,-6 1265,0 1271,0 1271,0 1394,0 1394,0 1400,0 1406,-6 1406,-12 1406,-12 1406,-56 1406,-56 1406,-62 1400,-68 1394,-68\"/>\n<text text-anchor=\"start\" x=\"1304.5\" y=\"-52.8\" font-family=\"Helvetica,sans-Serif\" font-size=\"14.00\">gini = 0.0</text>\n<text text-anchor=\"start\" x=\"1284\" y=\"-37.8\" font-family=\"Helvetica,sans-Serif\" font-size=\"14.00\">samples = 1089</text>\n<text text-anchor=\"start\" x=\"1267\" y=\"-22.8\" font-family=\"Helvetica,sans-Serif\" font-size=\"14.00\">value = [0, 0, 0, 1089]</text>\n<text text-anchor=\"start\" x=\"1296\" y=\"-7.8\" font-family=\"Helvetica,sans-Serif\" font-size=\"14.00\">class = FLU</text>\n</g>\n<!-- 21&#45;&gt;23 -->\n<g id=\"edge23\" class=\"edge\">\n<title>21&#45;&gt;23</title>\n<path fill=\"none\" stroke=\"black\" d=\"M1232.08,-103.73C1246.28,-94.01 1261.4,-83.66 1275.48,-74.02\"/>\n<polygon fill=\"black\" stroke=\"black\" points=\"1277.82,-76.66 1284.1,-68.13 1273.87,-70.88 1277.82,-76.66\"/>\n</g>\n</g>\n</svg>\n",
            "text/plain": [
              "<graphviz.sources.Source at 0x7fa48aaaf7c0>"
            ]
          },
          "metadata": {},
          "execution_count": 21
        }
      ]
    }
  ]
}